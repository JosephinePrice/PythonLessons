{
 "cells": [
  {
   "cell_type": "code",
   "execution_count": 3,
   "id": "c647b188",
   "metadata": {},
   "outputs": [],
   "source": [
    "class Cats:\n",
    "    \n",
    "#Class attribute goes here (below)\n",
    "    species = \"Nebelung\"\n",
    "  \n",
    "    def __init__(self, name, chonkiness_level, cuteness_level):\n",
    "        self.name = name\n",
    "        self.chonkiness_level = chonkiness_level\n",
    "        self.cuteness = cuteness_level\n",
    "        \n",
    "#Attributes above are called instance attributes\n",
    "#To pass arguments to the name and age parameters\n",
    "#put values into the brackets here (below)\n",
    "Louis = Cats(\"Louis\", \"very chonky\", \"very very cute\")\n",
    "Binks = Cats(\"Binks\", \"medium chonky\", \"not that cute\")"
   ]
  },
  {
   "cell_type": "code",
   "execution_count": 6,
   "id": "d7fd8048",
   "metadata": {},
   "outputs": [],
   "source": [
    "class Cats:\n",
    "    \n",
    "#Class attribute goes here (below)\n",
    "    species = \"Nebelung\"\n",
    "Louis = Cats()"
   ]
  },
  {
   "cell_type": "code",
   "execution_count": 9,
   "id": "72442895",
   "metadata": {},
   "outputs": [
    {
     "ename": "AttributeError",
     "evalue": "'Cats' object has no attribute 'cuteness'",
     "output_type": "error",
     "traceback": [
      "\u001b[1;31m---------------------------------------------------------------------------\u001b[0m",
      "\u001b[1;31mAttributeError\u001b[0m                            Traceback (most recent call last)",
      "\u001b[1;32m<ipython-input-9-6b351b56b967>\u001b[0m in \u001b[0;36m<module>\u001b[1;34m\u001b[0m\n\u001b[1;32m----> 1\u001b[1;33m \u001b[0mLouis\u001b[0m\u001b[1;33m.\u001b[0m\u001b[0mcuteness\u001b[0m\u001b[1;33m\u001b[0m\u001b[1;33m\u001b[0m\u001b[0m\n\u001b[0m",
      "\u001b[1;31mAttributeError\u001b[0m: 'Cats' object has no attribute 'cuteness'"
     ]
    }
   ],
   "source": [
    "Louis.cuteness"
   ]
  },
  {
   "cell_type": "code",
   "execution_count": 10,
   "id": "6a8ae74d",
   "metadata": {},
   "outputs": [
    {
     "data": {
      "text/plain": [
       "'Nebelung'"
      ]
     },
     "execution_count": 10,
     "metadata": {},
     "output_type": "execute_result"
    }
   ],
   "source": [
    "class Louise:\n",
    "    species = \"Nebelung\"\n",
    "    cuteness_level = \"very very cute\""
   ]
  },
  {
   "cell_type": "code",
   "execution_count": 11,
   "id": "5e0a01b1",
   "metadata": {},
   "outputs": [],
   "source": [
    "class Dog:\n",
    "    species = \"Canis familiaris\"\n",
    "    def __init__(self, name, age):\n",
    "        self.name = name\n",
    "        self.age = age"
   ]
  },
  {
   "cell_type": "code",
   "execution_count": 12,
   "id": "6f03a0bb",
   "metadata": {},
   "outputs": [],
   "source": [
    "my_new_dog = Dog('Fido', 2)"
   ]
  },
  {
   "cell_type": "code",
   "execution_count": 13,
   "id": "c6e9d49b",
   "metadata": {},
   "outputs": [
    {
     "data": {
      "text/plain": [
       "'Fido'"
      ]
     },
     "execution_count": 13,
     "metadata": {},
     "output_type": "execute_result"
    }
   ],
   "source": []
  },
  {
   "cell_type": "code",
   "execution_count": 22,
   "id": "7f533cd1",
   "metadata": {},
   "outputs": [],
   "source": [
    "class Employee: \n",
    "    employer = 'PGI'\n",
    "    def __init__(self, department, job_grade, name):\n",
    "        self.department = department\n",
    "        self.job_grade = job_grade\n",
    "        self.name = name\n",
    "        \n",
    "    def description(self):\n",
    "        return 'Employee namme is {}'.format(self.name)"
   ]
  },
  {
   "cell_type": "code",
   "execution_count": 24,
   "id": "1e4b253a",
   "metadata": {},
   "outputs": [
    {
     "data": {
      "text/plain": [
       "<function __main__.Employee.description(self)>"
      ]
     },
     "execution_count": 24,
     "metadata": {},
     "output_type": "execute_result"
    }
   ],
   "source": [
    "Employee.description"
   ]
  },
  {
   "cell_type": "code",
   "execution_count": 17,
   "id": "93de8093",
   "metadata": {},
   "outputs": [],
   "source": [
    "excellent_employee = Employee('SOCMINT', 'D1', 'Josie')"
   ]
  },
  {
   "cell_type": "code",
   "execution_count": 20,
   "id": "70bae0d8",
   "metadata": {},
   "outputs": [
    {
     "data": {
      "text/plain": [
       "'SOCMINT'"
      ]
     },
     "execution_count": 20,
     "metadata": {},
     "output_type": "execute_result"
    }
   ],
   "source": [
    "excellent_employee.department"
   ]
  },
  {
   "cell_type": "code",
   "execution_count": 25,
   "id": "befcf6f4",
   "metadata": {},
   "outputs": [],
   "source": [
    "class Employee_2: \n",
    "    employer = 'PGI'\n",
    "    def __init__(self, department, job_grade, name):\n",
    "        self.department = department\n",
    "        self.job_grade = job_grade\n",
    "        self.name = name\n",
    "        \n",
    "    def description(self):\n",
    "        return 'Employee namme is {}'.format(self.name)"
   ]
  },
  {
   "cell_type": "code",
   "execution_count": 27,
   "id": "d967ba58",
   "metadata": {},
   "outputs": [
    {
     "data": {
      "text/plain": [
       "'Employee namme is naadirah'"
      ]
     },
     "execution_count": 27,
     "metadata": {},
     "output_type": "execute_result"
    }
   ],
   "source": [
    "first_instantiation = Employee_2('pgi', 'd2', 'naadirah')\n",
    "first_instantiation.description()"
   ]
  },
  {
   "cell_type": "code",
   "execution_count": 28,
   "id": "cb59c526",
   "metadata": {},
   "outputs": [],
   "source": [
    "class Dog:\n",
    "    species = 'dog in latin'\n",
    "    \n",
    "    def __init__(self, name, age, breed):\n",
    "        self.name = name\n",
    "        self.age = age\n",
    "        self.breed = breed"
   ]
  },
  {
   "cell_type": "code",
   "execution_count": 29,
   "id": "2b3d1c40",
   "metadata": {},
   "outputs": [],
   "source": [
    "miles = Dog('Miles', 4, 'Jack Russell')\n",
    "buddy = Dog('Buddy', 9, 'American')"
   ]
  },
  {
   "cell_type": "code",
   "execution_count": 39,
   "id": "4005ec1e",
   "metadata": {},
   "outputs": [
    {
     "data": {
      "text/plain": [
       "'hi team'"
      ]
     },
     "execution_count": 39,
     "metadata": {},
     "output_type": "execute_result"
    }
   ],
   "source": [
    "error = my_error_function()\n",
    "f\"oh no something went disastrously wrong this was the error message: {error} \""
   ]
  },
  {
   "cell_type": "code",
   "execution_count": 41,
   "id": "c393b546",
   "metadata": {},
   "outputs": [
    {
     "data": {
      "text/plain": [
       "'hi team'"
      ]
     },
     "execution_count": 41,
     "metadata": {},
     "output_type": "execute_result"
    }
   ],
   "source": [
    "\"{} team\".format(example)"
   ]
  },
  {
   "cell_type": "code",
   "execution_count": 45,
   "id": "c6dc9786",
   "metadata": {},
   "outputs": [
    {
     "data": {
      "text/plain": [
       "'hello world'"
      ]
     },
     "execution_count": 45,
     "metadata": {},
     "output_type": "execute_result"
    }
   ],
   "source": [
    "\"hello %s\" % 'world'"
   ]
  },
  {
   "cell_type": "code",
   "execution_count": 47,
   "id": "ff91dc22",
   "metadata": {},
   "outputs": [],
   "source": [
    "my_list = [1,2,3]"
   ]
  },
  {
   "cell_type": "code",
   "execution_count": 48,
   "id": "a406bd21",
   "metadata": {},
   "outputs": [],
   "source": [
    "my_list.remove(3)"
   ]
  },
  {
   "cell_type": "code",
   "execution_count": 49,
   "id": "7dce063b",
   "metadata": {},
   "outputs": [
    {
     "data": {
      "text/plain": [
       "[1, 2]"
      ]
     },
     "execution_count": 49,
     "metadata": {},
     "output_type": "execute_result"
    }
   ],
   "source": [
    "my_list"
   ]
  },
  {
   "cell_type": "code",
   "execution_count": null,
   "id": "b9a4943d",
   "metadata": {},
   "outputs": [],
   "source": []
  }
 ],
 "metadata": {
  "kernelspec": {
   "display_name": "Python 3",
   "language": "python",
   "name": "python3"
  },
  "language_info": {
   "codemirror_mode": {
    "name": "ipython",
    "version": 3
   },
   "file_extension": ".py",
   "mimetype": "text/x-python",
   "name": "python",
   "nbconvert_exporter": "python",
   "pygments_lexer": "ipython3",
   "version": "3.8.8"
  }
 },
 "nbformat": 4,
 "nbformat_minor": 5
}
