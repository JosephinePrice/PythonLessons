{
 "cells": [
  {
   "cell_type": "code",
   "execution_count": 53,
   "id": "f6092c77",
   "metadata": {},
   "outputs": [],
   "source": [
    "student_grades = {\n",
    "    'Rachel': 4,\n",
    "    'Monica': 2,\n",
    "    'Joey':1,\n",
    "    'Ross': 5,\n",
    "    'Pheobe': 4, \n",
    "    'Chandler': 3,\n",
    "}"
   ]
  },
  {
   "cell_type": "code",
   "execution_count": 54,
   "id": "a0daac48",
   "metadata": {},
   "outputs": [
    {
     "data": {
      "text/plain": [
       "{'Rachel': 4, 'Monica': 2, 'Joey': 1, 'Ross': 5, 'Pheobe': 4, 'Chandler': 3}"
      ]
     },
     "execution_count": 54,
     "metadata": {},
     "output_type": "execute_result"
    }
   ],
   "source": [
    "student_grades"
   ]
  },
  {
   "cell_type": "code",
   "execution_count": 55,
   "id": "9287ffaa",
   "metadata": {},
   "outputs": [],
   "source": [
    "max_key = max(student_grades,key=student_grades.get)"
   ]
  },
  {
   "cell_type": "code",
   "execution_count": 66,
   "id": "233c85b6",
   "metadata": {},
   "outputs": [],
   "source": [
    "keys = sorted(student_grades, key=student_grades.get, reverse=True)[0]"
   ]
  },
  {
   "cell_type": "code",
   "execution_count": 67,
   "id": "eac521a6",
   "metadata": {},
   "outputs": [
    {
     "data": {
      "text/plain": [
       "'Ross'"
      ]
     },
     "execution_count": 67,
     "metadata": {},
     "output_type": "execute_result"
    }
   ],
   "source": [
    "keys"
   ]
  },
  {
   "cell_type": "code",
   "execution_count": 40,
   "id": "a8c380fe",
   "metadata": {},
   "outputs": [
    {
     "data": {
      "text/plain": [
       "1"
      ]
     },
     "execution_count": 40,
     "metadata": {},
     "output_type": "execute_result"
    }
   ],
   "source": [
    "max([1,2,3,4], key=lambda x:-x)"
   ]
  },
  {
   "cell_type": "code",
   "execution_count": 46,
   "id": "3caa8183",
   "metadata": {},
   "outputs": [],
   "source": [
    "def function(x):\n",
    "    return -x "
   ]
  },
  {
   "cell_type": "code",
   "execution_count": 47,
   "id": "b15994b6",
   "metadata": {},
   "outputs": [
    {
     "data": {
      "text/plain": [
       "1"
      ]
     },
     "execution_count": 47,
     "metadata": {},
     "output_type": "execute_result"
    }
   ],
   "source": [
    "max([1,2,3,4], key=function)"
   ]
  },
  {
   "cell_type": "code",
   "execution_count": 68,
   "id": "84392b96",
   "metadata": {},
   "outputs": [
    {
     "data": {
      "text/plain": [
       "{'Rachel': 4, 'Monica': 2, 'Joey': 1, 'Ross': 5, 'Pheobe': 4, 'Chandler': 3}"
      ]
     },
     "execution_count": 68,
     "metadata": {},
     "output_type": "execute_result"
    }
   ],
   "source": [
    "student_grades"
   ]
  },
  {
   "cell_type": "code",
   "execution_count": 75,
   "id": "9912fe92",
   "metadata": {},
   "outputs": [],
   "source": [
    "student_grades = {\n",
    "    'Rachel': 4,\n",
    "    'Monica': 2,\n",
    "    'Joey':1,\n",
    "    'Ross': 5,\n",
    "    'Pheobe': 4, \n",
    "    'Chandler': 3,\n",
    "}"
   ]
  },
  {
   "cell_type": "code",
   "execution_count": 76,
   "id": "d7ca650e",
   "metadata": {},
   "outputs": [],
   "source": [
    "del student_grades['Rachel']"
   ]
  },
  {
   "cell_type": "code",
   "execution_count": 77,
   "id": "1a21cb98",
   "metadata": {},
   "outputs": [
    {
     "data": {
      "text/plain": [
       "{'Monica': 2, 'Joey': 1, 'Ross': 5, 'Pheobe': 4, 'Chandler': 3}"
      ]
     },
     "execution_count": 77,
     "metadata": {},
     "output_type": "execute_result"
    }
   ],
   "source": [
    "student_grades"
   ]
  },
  {
   "cell_type": "code",
   "execution_count": 113,
   "id": "0732f260",
   "metadata": {},
   "outputs": [],
   "source": [
    "def all_in_one(input_dictionary):\n",
    "    \"\"\"\n",
    "    Function to change a dictionary of students and grades such that it prints out the highest grade,\n",
    "    remove the student with the lowest grade and print + return the revised dictionary.\n",
    "    If more than one student has the lowest grade, remove all of them.\n",
    "    :param input_dictionary: dictionary, student grades.\n",
    "    :return input_dictionary: dictionary, revised dictionary.\n",
    "    \"\"\"\n",
    "    \n",
    "    # Find the highest grade and print it out\n",
    "    highest_grade = max(input_dictionary,key=input_dictionary.get)\n",
    "    print(highest_grade)\n",
    "    lowest_grade = min(input_dictionary, key=input_dictionary.get)\n",
    "\n",
    "    # Now find all the keys that have the lowest value\n",
    "    lowest_value = sorted(student_grades.values())[0]\n",
    "    lowest_keys = []\n",
    "    for x in input_dictionary:\n",
    "        if input_dictionary[x] == lowest_value:\n",
    "            lowest_keys.append(x)\n",
    "\n",
    "    for key in lowest_keys:\n",
    "        del input_dictionary[key]\n",
    "    \n",
    "    print(input_dictionary)    \n",
    "    "
   ]
  },
  {
   "cell_type": "code",
   "execution_count": 112,
   "id": "8efbf432",
   "metadata": {},
   "outputs": [
    {
     "name": "stdout",
     "output_type": "stream",
     "text": [
      "Ross\n",
      "{'Rachel': 4, 'Monica': 2, 'Joey': 1, 'Ross': 5, 'Pheobe': 4, 'Chandler': 3, 'Gunther': 1}\n"
     ]
    }
   ],
   "source": [
    "student_grades = {\n",
    "    'Rachel': 4,\n",
    "    'Monica': 2,\n",
    "    'Joey':1,\n",
    "    'Ross': 5,\n",
    "    'Pheobe': 4, \n",
    "    'Chandler': 3,\n",
    "    'Gunther': 1\n",
    "}\n",
    "all_in_one(input_dictionary=student_grades)"
   ]
  },
  {
   "cell_type": "code",
   "execution_count": 98,
   "id": "9216f39e",
   "metadata": {},
   "outputs": [],
   "source": [
    "some_variable = []"
   ]
  },
  {
   "cell_type": "code",
   "execution_count": 99,
   "id": "a6ff8852",
   "metadata": {},
   "outputs": [
    {
     "data": {
      "text/plain": [
       "list"
      ]
     },
     "execution_count": 99,
     "metadata": {},
     "output_type": "execute_result"
    }
   ],
   "source": [
    "type(some_variable)"
   ]
  },
  {
   "cell_type": "code",
   "execution_count": 106,
   "id": "3830d15d",
   "metadata": {},
   "outputs": [
    {
     "name": "stdout",
     "output_type": "stream",
     "text": [
      "Rachel 4\n",
      "Monica 2\n",
      "Joey 1\n",
      "Ross 5\n",
      "Pheobe 4\n",
      "Chandler 3\n",
      "Gunther 1\n"
     ]
    }
   ],
   "source": [
    "student_grades = {\n",
    "    'Rachel': 4,\n",
    "    'Monica': 2,\n",
    "    'Joey':1,\n",
    "    'Ross': 5,\n",
    "    'Pheobe': 4, \n",
    "    'Chandler': 3,\n",
    "    'Gunther': 1\n",
    "}\n",
    "for x, y in student_grades.items():\n",
    "    print(x, y)"
   ]
  },
  {
   "cell_type": "code",
   "execution_count": 107,
   "id": "29b89823",
   "metadata": {},
   "outputs": [
    {
     "data": {
      "text/plain": [
       "3"
      ]
     },
     "execution_count": 107,
     "metadata": {},
     "output_type": "execute_result"
    }
   ],
   "source": [
    "student_grades['Chandler']"
   ]
  },
  {
   "cell_type": "code",
   "execution_count": 108,
   "id": "8285a339",
   "metadata": {},
   "outputs": [
    {
     "name": "stdout",
     "output_type": "stream",
     "text": [
      "[0, 1, 2, 3, 4, 5, 6, 7, 8, 9]\n"
     ]
    }
   ],
   "source": [
    "blank_list = []\n",
    "for x in range(10):\n",
    "    blank_list.append(x)\n",
    "print(blank_list)"
   ]
  },
  {
   "cell_type": "code",
   "execution_count": 114,
   "id": "ede20d85",
   "metadata": {},
   "outputs": [],
   "source": [
    "blank_list = []\n",
    "for x in range(4):\n",
    "    blank_list.append(x)"
   ]
  },
  {
   "cell_type": "code",
   "execution_count": 115,
   "id": "f24c5282",
   "metadata": {},
   "outputs": [
    {
     "name": "stdout",
     "output_type": "stream",
     "text": [
      "[0, 1, 2, 3]\n"
     ]
    }
   ],
   "source": [
    "print(blank_list)"
   ]
  },
  {
   "cell_type": "code",
   "execution_count": 121,
   "id": "6cfe8337",
   "metadata": {},
   "outputs": [
    {
     "name": "stdout",
     "output_type": "stream",
     "text": [
      "0\n",
      "1\n",
      "2\n",
      "3\n"
     ]
    }
   ],
   "source": [
    "for x in range(10):\n",
    "    if x == 4:\n",
    "        break\n",
    "    print (x)"
   ]
  },
  {
   "cell_type": "code",
   "execution_count": 134,
   "id": "47677a02",
   "metadata": {},
   "outputs": [
    {
     "name": "stdout",
     "output_type": "stream",
     "text": [
      "0\n",
      "4\n",
      "16\n",
      "36\n"
     ]
    }
   ],
   "source": [
    "for x in [0,1,2,3]:\n",
    "    print((x + x)**2)"
   ]
  },
  {
   "cell_type": "code",
   "execution_count": 130,
   "id": "c745d13e",
   "metadata": {},
   "outputs": [],
   "source": [
    "range_function = lambda x: list(range(x, x + 6))"
   ]
  },
  {
   "cell_type": "code",
   "execution_count": 131,
   "id": "45023c9f",
   "metadata": {},
   "outputs": [
    {
     "data": {
      "text/plain": [
       "[10, 11, 12, 13, 14, 15]"
      ]
     },
     "execution_count": 131,
     "metadata": {},
     "output_type": "execute_result"
    }
   ],
   "source": [
    "range_function(10)"
   ]
  },
  {
   "cell_type": "code",
   "execution_count": 132,
   "id": "75d127a4",
   "metadata": {},
   "outputs": [
    {
     "data": {
      "text/plain": [
       "[20, 21, 22, 23, 24, 25]"
      ]
     },
     "execution_count": 132,
     "metadata": {},
     "output_type": "execute_result"
    }
   ],
   "source": [
    "range_function(20)"
   ]
  },
  {
   "cell_type": "code",
   "execution_count": 140,
   "id": "fcca4cdd",
   "metadata": {},
   "outputs": [],
   "source": [
    "def my_random_list_func(input_list):\n",
    "\n",
    "    for x in input_list:\n",
    "        print((x + x)**2)"
   ]
  },
  {
   "cell_type": "markdown",
   "id": "e1b9a5db",
   "metadata": {},
   "source": [
    "# Homework\n",
    "\n",
    "## For Loops\n",
    "\n",
    "* Use a for loop to print out all the numbers between 1 and 100 that are even\n",
    "* Use a for loop to add 'hello' to every letter in the alphabet and then print that out (see below for how to access every letter in alphabet)\n",
    "* Use a for loop to change the students grades dictionary above such that everyone's mark gets increased by 20% and all the names of the students are changed to add FRIENDS. So Ross should become Ross FRIENDS and his mark should be 7"
   ]
  },
  {
   "cell_type": "code",
   "execution_count": 1,
   "id": "085e516a",
   "metadata": {},
   "outputs": [],
   "source": [
    "from string import ascii_lowercase"
   ]
  },
  {
   "cell_type": "code",
   "execution_count": 2,
   "id": "c7fcf5ff",
   "metadata": {},
   "outputs": [
    {
     "data": {
      "text/plain": [
       "'abcdefghijklmnopqrstuvwxyz'"
      ]
     },
     "execution_count": 2,
     "metadata": {},
     "output_type": "execute_result"
    }
   ],
   "source": [
    "ascii_lowercase"
   ]
  },
  {
   "cell_type": "code",
   "execution_count": null,
   "id": "235588f5",
   "metadata": {},
   "outputs": [],
   "source": [
    "for x in ascii_lowercase"
   ]
  }
 ],
 "metadata": {
  "kernelspec": {
   "display_name": "Python 3",
   "language": "python",
   "name": "python3"
  },
  "language_info": {
   "codemirror_mode": {
    "name": "ipython",
    "version": 3
   },
   "file_extension": ".py",
   "mimetype": "text/x-python",
   "name": "python",
   "nbconvert_exporter": "python",
   "pygments_lexer": "ipython3",
   "version": "3.8.8"
  }
 },
 "nbformat": 4,
 "nbformat_minor": 5
}
