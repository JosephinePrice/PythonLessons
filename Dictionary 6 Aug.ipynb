{
 "cells": [
  {
   "cell_type": "code",
   "execution_count": 2,
   "id": "c3a102fa",
   "metadata": {},
   "outputs": [],
   "source": [
    "student_grades = {\n",
    "    'Ella': 88,\n",
    "    'John': 72,\n",
    "    'Hannah':90,\n",
    "    'Noura': 77,\n",
    "}"
   ]
  },
  {
   "cell_type": "code",
   "execution_count": 9,
   "id": "327d54be",
   "metadata": {},
   "outputs": [
    {
     "data": {
      "text/plain": [
       "{'Ella': 88, 'John': 72, 'Hannah': 90, 'Noura': 77}"
      ]
     },
     "execution_count": 9,
     "metadata": {},
     "output_type": "execute_result"
    }
   ],
   "source": [
    "student_grades"
   ]
  },
  {
   "cell_type": "code",
   "execution_count": 16,
   "id": "a4e95ad4",
   "metadata": {},
   "outputs": [],
   "source": [
    "bad_guys = {\n",
    "    'daredevil': 'kingpin',\n",
    "    'x-men': 'apocalypse',\n",
    "    'batman':'bane'\n",
    "}"
   ]
  },
  {
   "cell_type": "code",
   "execution_count": 17,
   "id": "0e5a637d",
   "metadata": {},
   "outputs": [
    {
     "data": {
      "text/plain": [
       "{'daredevil': 'kingpin', 'x-men': 'apocalypse', 'batman': 'bane'}"
      ]
     },
     "execution_count": 17,
     "metadata": {},
     "output_type": "execute_result"
    }
   ],
   "source": [
    "bad_guys"
   ]
  },
  {
   "cell_type": "code",
   "execution_count": 18,
   "id": "aa237732",
   "metadata": {},
   "outputs": [
    {
     "data": {
      "text/plain": [
       "'bane'"
      ]
     },
     "execution_count": 18,
     "metadata": {},
     "output_type": "execute_result"
    }
   ],
   "source": [
    "bad_guys ['batman']"
   ]
  },
  {
   "cell_type": "code",
   "execution_count": 54,
   "id": "11de223d",
   "metadata": {},
   "outputs": [],
   "source": [
    "string_name = {\n",
    "    'a': 1,\n",
    "    'b': 2, \n",
    "     'c': 3,\n",
    "    'd': 4,\n",
    "    'e': 5\n",
    "}"
   ]
  },
  {
   "cell_type": "code",
   "execution_count": 55,
   "id": "a3225d15",
   "metadata": {},
   "outputs": [
    {
     "data": {
      "text/plain": [
       "{'a': 1, 'b': 2, 'c': 3, 'd': 4, 'e': 5}"
      ]
     },
     "execution_count": 55,
     "metadata": {},
     "output_type": "execute_result"
    }
   ],
   "source": [
    "string_name "
   ]
  },
  {
   "cell_type": "code",
   "execution_count": 35,
   "id": "7a329d26",
   "metadata": {},
   "outputs": [
    {
     "data": {
      "text/plain": [
       "True"
      ]
     },
     "execution_count": 35,
     "metadata": {},
     "output_type": "execute_result"
    }
   ],
   "source": [
    "'e' in string_name.keys()"
   ]
  },
  {
   "cell_type": "code",
   "execution_count": 56,
   "id": "c4972996",
   "metadata": {},
   "outputs": [],
   "source": [
    "name_1 = 'Alexander'"
   ]
  },
  {
   "cell_type": "code",
   "execution_count": 75,
   "id": "9b840f56",
   "metadata": {},
   "outputs": [
    {
     "data": {
      "text/plain": [
       "''"
      ]
     },
     "execution_count": 75,
     "metadata": {},
     "output_type": "execute_result"
    }
   ],
   "source": [
    "\"Liam\".replace(\"Liam\", \"\")"
   ]
  },
  {
   "cell_type": "code",
   "execution_count": 86,
   "id": "5eb49e7b",
   "metadata": {},
   "outputs": [],
   "source": [
    "def rewrite(name_1,string_name):\n",
    "    name_1 = name_1.lower()\n",
    "    for x in name_1:\n",
    "        if x in string_name.keys():\n",
    "            new_letter = string_name[x]\n",
    "            name_1 = name_1.replace(x, str(new_letter))\n",
    "    return name_1"
   ]
  },
  {
   "cell_type": "code",
   "execution_count": 87,
   "id": "0a6791fc",
   "metadata": {},
   "outputs": [
    {
     "data": {
      "text/plain": [
       "'1l5x1n45r'"
      ]
     },
     "execution_count": 87,
     "metadata": {},
     "output_type": "execute_result"
    }
   ],
   "source": [
    "rewrite(name_1,string_name)"
   ]
  },
  {
   "cell_type": "code",
   "execution_count": 83,
   "id": "b6c8d5aa",
   "metadata": {},
   "outputs": [
    {
     "data": {
      "text/plain": [
       "'1l5x1n45r'"
      ]
     },
     "execution_count": 83,
     "metadata": {},
     "output_type": "execute_result"
    }
   ],
   "source": [
    "rewritev2(name_1,string_name)"
   ]
  },
  {
   "cell_type": "code",
   "execution_count": 89,
   "id": "079ecf9b",
   "metadata": {},
   "outputs": [
    {
     "data": {
      "text/plain": [
       "'is smart too'"
      ]
     },
     "execution_count": 89,
     "metadata": {},
     "output_type": "execute_result"
    }
   ],
   "source": [
    "{'Josie': 'is smart too'}['Josie']"
   ]
  },
  {
   "cell_type": "code",
   "execution_count": 91,
   "id": "04e43c90",
   "metadata": {},
   "outputs": [
    {
     "data": {
      "text/plain": [
       "'Josie'"
      ]
     },
     "execution_count": 91,
     "metadata": {},
     "output_type": "execute_result"
    }
   ],
   "source": [
    "['Josie', 'Naadirah'][0]"
   ]
  },
  {
   "cell_type": "code",
   "execution_count": 106,
   "id": "2aee9da2",
   "metadata": {},
   "outputs": [],
   "source": [
    "def rewritev2(name_1,string_name):\n",
    "    name_1 = name_1.lower()\n",
    "    new_word = []\n",
    "    for x in name_1:\n",
    "        if x in string_name.keys():\n",
    "            new_letter = string_name[x]\n",
    "            new_word.append(str(new_letter))\n",
    "        else:\n",
    "            new_word.append(x)\n",
    "    print(new_word)\n",
    "    final_new_word = \"\".join(new_word)\n",
    "    print(final_new_word)\n",
    "    return final_new_word"
   ]
  },
  {
   "cell_type": "code",
   "execution_count": 107,
   "id": "3800f1cf",
   "metadata": {},
   "outputs": [
    {
     "name": "stdout",
     "output_type": "stream",
     "text": [
      "['1', 'l', '5', 'x', '1', 'n', '4', '5', 'r']\n",
      "1l5x1n45r\n"
     ]
    },
    {
     "data": {
      "text/plain": [
       "'1l5x1n45r'"
      ]
     },
     "execution_count": 107,
     "metadata": {},
     "output_type": "execute_result"
    }
   ],
   "source": [
    "rewritev2(name_1,string_name)"
   ]
  },
  {
   "cell_type": "code",
   "execution_count": 118,
   "id": "990ccc3a",
   "metadata": {},
   "outputs": [
    {
     "data": {
      "text/plain": [
       "'HELLOAHELLOBHELLOC'"
      ]
     },
     "execution_count": 118,
     "metadata": {},
     "output_type": "execute_result"
    }
   ],
   "source": [
    "\"HELLO\" + \"HELLO\".join([\"A\", \"B\", \"C\"])"
   ]
  },
  {
   "cell_type": "code",
   "execution_count": 122,
   "id": "42daa74f",
   "metadata": {},
   "outputs": [],
   "source": [
    "my_dict = {\"hello\": \"bonjour\", \"goodbye\": \"da svidaniya\"}"
   ]
  },
  {
   "cell_type": "code",
   "execution_count": 123,
   "id": "018a8d4d",
   "metadata": {},
   "outputs": [],
   "source": [
    "mysterious_dict = {k: v for k, v in zip([x for x in range(10)], [x for x in range(10)])}"
   ]
  },
  {
   "cell_type": "code",
   "execution_count": 125,
   "id": "44b361e1",
   "metadata": {},
   "outputs": [
    {
     "name": "stdout",
     "output_type": "stream",
     "text": [
      "0\n",
      "1\n",
      "2\n",
      "3\n",
      "4\n",
      "5\n",
      "6\n",
      "7\n",
      "8\n",
      "9\n"
     ]
    }
   ],
   "source": [
    "for x in mysterious_dict.keys():\n",
    "    print(mysterious_dict[x])"
   ]
  },
  {
   "cell_type": "code",
   "execution_count": 128,
   "id": "c8014df3",
   "metadata": {},
   "outputs": [
    {
     "data": {
      "text/plain": [
       "'bonjour'"
      ]
     },
     "execution_count": 128,
     "metadata": {},
     "output_type": "execute_result"
    }
   ],
   "source": [
    "my_dict[\"hello\"]"
   ]
  },
  {
   "cell_type": "code",
   "execution_count": 137,
   "id": "04cde32b",
   "metadata": {},
   "outputs": [],
   "source": [
    "grades = {\"Josie\": \"A-\", \"Naadirah\": \"A+\", \"Liam\": \"Fail\", \"Beth\": \"Fail\"}"
   ]
  },
  {
   "cell_type": "code",
   "execution_count": 138,
   "id": "871c1cf1",
   "metadata": {},
   "outputs": [
    {
     "data": {
      "text/plain": [
       "'A-'"
      ]
     },
     "execution_count": 138,
     "metadata": {},
     "output_type": "execute_result"
    }
   ],
   "source": [
    "grades[\"Josie\"]"
   ]
  },
  {
   "cell_type": "code",
   "execution_count": 136,
   "id": "dc710089",
   "metadata": {},
   "outputs": [
    {
     "data": {
      "text/plain": [
       "{'Josie': 'A', 'Naadirah': 'D', 'Liam': 'A-', 'Beth': 'Fail'}"
      ]
     },
     "execution_count": 136,
     "metadata": {},
     "output_type": "execute_result"
    }
   ],
   "source": [
    "grades"
   ]
  },
  {
   "cell_type": "markdown",
   "id": "013218f0",
   "metadata": {},
   "source": [
    "# Homework\n",
    "\n",
    "* Create a dictionary to grade all your students\n",
    "* Grades can be from 1 to 5, a 5 is the highest mark and a 1 is the lowest\n",
    "* So your dictionary should look like this for example students = {\"Natasha\": 5, \"Vladimir\": 1, \"Yurii\": \"3\"}\n",
    "* Write a function to return the student with the highest grade\n",
    "* Delete the student with the lowest grade - were kicking them out\n",
    "* Return the name of the student with the highest grade and the revised dictionary, i.e. the same dictionary but without the worst student"
   ]
  },
  {
   "cell_type": "markdown",
   "id": "20c26661",
   "metadata": {},
   "source": [
    "### Headers\n",
    "\n",
    "* Asterisks are bullet points\n",
    "\n",
    "**double asterisks are bold**\n",
    "\n",
    "*and many more other cool stuff*"
   ]
  },
  {
   "cell_type": "markdown",
   "id": "c8d7d04f",
   "metadata": {},
   "source": [
    "**remind alex to do everything on github**"
   ]
  },
  {
   "cell_type": "code",
   "execution_count": null,
   "id": "9a9de784",
   "metadata": {},
   "outputs": [],
   "source": []
  }
 ],
 "metadata": {
  "kernelspec": {
   "display_name": "Python 3",
   "language": "python",
   "name": "python3"
  },
  "language_info": {
   "codemirror_mode": {
    "name": "ipython",
    "version": 3
   },
   "file_extension": ".py",
   "mimetype": "text/x-python",
   "name": "python",
   "nbconvert_exporter": "python",
   "pygments_lexer": "ipython3",
   "version": "3.8.8"
  }
 },
 "nbformat": 4,
 "nbformat_minor": 5
}
