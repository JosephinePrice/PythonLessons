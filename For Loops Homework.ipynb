{
 "cells": [
  {
   "cell_type": "code",
   "execution_count": 2,
   "id": "90c28084",
   "metadata": {},
   "outputs": [
    {
     "name": "stdout",
     "output_type": "stream",
     "text": [
      "0\n",
      "2\n",
      "4\n",
      "6\n",
      "8\n",
      "10\n",
      "12\n",
      "14\n",
      "16\n",
      "18\n",
      "20\n",
      "22\n",
      "24\n",
      "26\n",
      "28\n",
      "30\n",
      "32\n",
      "34\n",
      "36\n",
      "38\n",
      "40\n",
      "42\n",
      "44\n",
      "46\n",
      "48\n",
      "50\n",
      "52\n",
      "54\n",
      "56\n",
      "58\n",
      "60\n",
      "62\n",
      "64\n",
      "66\n",
      "68\n",
      "70\n",
      "72\n",
      "74\n",
      "76\n",
      "78\n",
      "80\n",
      "82\n",
      "84\n",
      "86\n",
      "88\n",
      "90\n",
      "92\n",
      "94\n",
      "96\n",
      "98\n"
     ]
    }
   ],
   "source": [
    "for x in range(100):\n",
    "    if x % 2 ==0:\n",
    "        print(x)"
   ]
  },
  {
   "cell_type": "code",
   "execution_count": 6,
   "id": "77fc4797",
   "metadata": {},
   "outputs": [
    {
     "name": "stdout",
     "output_type": "stream",
     "text": [
      "a Hello!\n",
      "b Hello!\n",
      "c Hello!\n",
      "d Hello!\n",
      "e Hello!\n",
      "f Hello!\n",
      "g Hello!\n",
      "h Hello!\n",
      "i Hello!\n",
      "j Hello!\n",
      "k Hello!\n",
      "l Hello!\n",
      "m Hello!\n",
      "n Hello!\n",
      "o Hello!\n",
      "p Hello!\n",
      "q Hello!\n",
      "r Hello!\n",
      "s Hello!\n",
      "t Hello!\n",
      "u Hello!\n",
      "v Hello!\n",
      "w Hello!\n",
      "x Hello!\n",
      "y Hello!\n",
      "z Hello!\n"
     ]
    }
   ],
   "source": [
    "from string import ascii_lowercase\n",
    "\n",
    "for x in ascii_lowercase:\n",
    "    print(x + \" Hello!\")"
   ]
  },
  {
   "cell_type": "code",
   "execution_count": 9,
   "id": "676c35ee",
   "metadata": {},
   "outputs": [],
   "source": [
    "student_grades={'Ella':5, \n",
    "                'James':3, \n",
    "                'Eve':4, \n",
    "                'Nada':1, \n",
    "                'Rosa':2, \n",
    "                'Harry':3}\n",
    "\n",
    "def smarty_pants_grades():\n",
    "    \n",
    "    for x, y in student_grades.items():\n",
    "        x = ((x + \" is a Smarty Pants\"))\n",
    "        \n",
    "        def percentage(grade, amount):\n",
    "            percentage = (100 * (float(grade)/float(amount)))\n",
    "            return \"This student's new grade is: \" + str(percentage)\n",
    "\n",
    "    return (x, y)"
   ]
  },
  {
   "cell_type": "markdown",
   "id": "honey-process",
   "metadata": {},
   "source": [
    "Change the names of everyone so that they have smarty pants afterwards and change the grades so that they are 20% higher."
   ]
  },
  {
   "cell_type": "code",
   "execution_count": 3,
   "id": "prescribed-direction",
   "metadata": {},
   "outputs": [],
   "source": [
    "student_grades={'Ella':5, \n",
    "                'James':3, \n",
    "                'Eve':4, \n",
    "                'Nada':1, \n",
    "                'Rosa':2, \n",
    "                'Harry':3}\n",
    "\n",
    "def smarty_pants_grades(name_of_interest, student_grades):\n",
    "    new_dict = {}\n",
    "    for x, y in student_grades.items():\n",
    "        new_name = x + \" is a Smarty Pants\"\n",
    "        percentage = \"This student's new grade is: \" + str(1.2 * y)\n",
    "        # Add a new key to the dictionary based on what's in the variable new name\n",
    "        # and set value to be percentage\n",
    "        if x == name_of_interest:\n",
    "            new_dict[new_name] = percentage\n",
    "        else:\n",
    "            new_dict[new_name] = y\n",
    "            \n",
    "    return new_dict"
   ]
  },
  {
   "cell_type": "code",
   "execution_count": 4,
   "id": "valuable-airport",
   "metadata": {},
   "outputs": [
    {
     "data": {
      "text/plain": [
       "{'Ella is a Smarty Pants': 5,\n",
       " 'James is a Smarty Pants': 3,\n",
       " 'Eve is a Smarty Pants': 4,\n",
       " 'Nada is a Smarty Pants': 1,\n",
       " 'Rosa is a Smarty Pants': \"This student's new grade is: 2.4\",\n",
       " 'Harry is a Smarty Pants': 3}"
      ]
     },
     "execution_count": 4,
     "metadata": {},
     "output_type": "execute_result"
    }
   ],
   "source": [
    "smarty_pants_grades(\"Rosa\", student_grades)"
   ]
  },
  {
   "cell_type": "code",
   "execution_count": 96,
   "id": "accomplished-inspection",
   "metadata": {},
   "outputs": [],
   "source": [
    "smarty_pants_lambda = lambda x : {k + \" is a Smarty Pants\": round(1.2 * v, 2) for k, v in x.items()}"
   ]
  },
  {
   "cell_type": "code",
   "execution_count": 97,
   "id": "stunning-termination",
   "metadata": {},
   "outputs": [
    {
     "data": {
      "text/plain": [
       "{'Ella is a Smarty Pants': 6.0,\n",
       " 'James is a Smarty Pants': 3.6,\n",
       " 'Eve is a Smarty Pants': 4.8,\n",
       " 'Nada is a Smarty Pants': 1.2,\n",
       " 'Rosa is a Smarty Pants': 2.4,\n",
       " 'Harry is a Smarty Pants': 3.6}"
      ]
     },
     "execution_count": 97,
     "metadata": {},
     "output_type": "execute_result"
    }
   ],
   "source": [
    "student_grades = {'Ella':5, \n",
    "                'James':3, \n",
    "                'Eve':4, \n",
    "                'Nada':1, \n",
    "                'Rosa':2, \n",
    "                'Harry':3}\n",
    "\n",
    "smarty_pants_lambda(student_grades)"
   ]
  },
  {
   "cell_type": "code",
   "execution_count": 63,
   "id": "41fb5a91",
   "metadata": {},
   "outputs": [
    {
     "name": "stdout",
     "output_type": "stream",
     "text": [
      "{'Ella': \"This student's new grade is: 6.0\", 'James': \"This student's new grade is: 3.5999999999999996\", 'Eve': \"This student's new grade is: 4.8\", 'Nada': \"This student's new grade is: 1.2\", 'Rosa': \"This student's new grade is: 2.4\", 'Harry': \"This student's new grade is: 3.5999999999999996\"}\n"
     ]
    },
    {
     "data": {
      "text/plain": [
       "{}"
      ]
     },
     "execution_count": 63,
     "metadata": {},
     "output_type": "execute_result"
    }
   ],
   "source": [
    "smarty_pants_grades()"
   ]
  },
  {
   "cell_type": "code",
   "execution_count": 29,
   "id": "realistic-parker",
   "metadata": {},
   "outputs": [],
   "source": [
    "new_dict = {}"
   ]
  },
  {
   "cell_type": "code",
   "execution_count": 30,
   "id": "experienced-intersection",
   "metadata": {},
   "outputs": [
    {
     "data": {
      "text/plain": [
       "dict"
      ]
     },
     "execution_count": 30,
     "metadata": {},
     "output_type": "execute_result"
    }
   ],
   "source": [
    "type(new_dict)"
   ]
  },
  {
   "cell_type": "code",
   "execution_count": 31,
   "id": "controversial-universal",
   "metadata": {},
   "outputs": [],
   "source": [
    "new_dict[1] = 2"
   ]
  },
  {
   "cell_type": "code",
   "execution_count": 32,
   "id": "communist-phoenix",
   "metadata": {},
   "outputs": [
    {
     "data": {
      "text/plain": [
       "{1: 2}"
      ]
     },
     "execution_count": 32,
     "metadata": {},
     "output_type": "execute_result"
    }
   ],
   "source": [
    "new_dict"
   ]
  },
  {
   "cell_type": "code",
   "execution_count": 42,
   "id": "authorized-communist",
   "metadata": {},
   "outputs": [],
   "source": [
    "new_dict.update([(2,3), (3, 4)])"
   ]
  },
  {
   "cell_type": "code",
   "execution_count": 43,
   "id": "imported-wagner",
   "metadata": {},
   "outputs": [
    {
     "data": {
      "text/plain": [
       "{1: 2, 2: 3, 3: 4}"
      ]
     },
     "execution_count": 43,
     "metadata": {},
     "output_type": "execute_result"
    }
   ],
   "source": [
    "new_dict"
   ]
  },
  {
   "cell_type": "markdown",
   "id": "neither-engineering",
   "metadata": {},
   "source": [
    "# Homework\n",
    "\n",
    "* Find the sum of all primes less than 100?\n",
    "* Use a for loop to iterate through all the numbers less than 100\n",
    "* Append the primes to a list\n",
    "* Then sum that list\n",
    "\n",
    "## Challenge\n",
    "\n",
    "* Once you have all the primes, write a function to sum all the numbers less than that prime\n",
    "* i.e. for 7 you would sum 6,5,4,3,2,1\n",
    "* Apply this to all the numbers in your list of primes under 100\n",
    "* Return a new list of this function applied to the list of primes under 100"
   ]
  },
  {
   "cell_type": "code",
   "execution_count": 5,
   "id": "planned-skill",
   "metadata": {},
   "outputs": [
    {
     "data": {
      "text/plain": [
       "6"
      ]
     },
     "execution_count": 5,
     "metadata": {},
     "output_type": "execute_result"
    }
   ],
   "source": [
    "3 * 2 * 1"
   ]
  },
  {
   "cell_type": "code",
   "execution_count": 6,
   "id": "proof-spyware",
   "metadata": {},
   "outputs": [],
   "source": [
    "from math import factorial"
   ]
  },
  {
   "cell_type": "code",
   "execution_count": 7,
   "id": "middle-calculator",
   "metadata": {},
   "outputs": [
    {
     "data": {
      "text/plain": [
       "6"
      ]
     },
     "execution_count": 7,
     "metadata": {},
     "output_type": "execute_result"
    }
   ],
   "source": [
    "factorial(3)"
   ]
  },
  {
   "cell_type": "code",
   "execution_count": 8,
   "id": "wireless-hypothetical",
   "metadata": {},
   "outputs": [
    {
     "data": {
      "text/plain": [
       "24"
      ]
     },
     "execution_count": 8,
     "metadata": {},
     "output_type": "execute_result"
    }
   ],
   "source": [
    "factorial(4)"
   ]
  },
  {
   "cell_type": "code",
   "execution_count": 9,
   "id": "commercial-advance",
   "metadata": {},
   "outputs": [
    {
     "data": {
      "text/plain": [
       "24"
      ]
     },
     "execution_count": 9,
     "metadata": {},
     "output_type": "execute_result"
    }
   ],
   "source": [
    "4 * 3 * 2 * 1"
   ]
  },
  {
   "cell_type": "code",
   "execution_count": null,
   "id": "durable-lloyd",
   "metadata": {},
   "outputs": [],
   "source": []
  }
 ],
 "metadata": {
  "kernelspec": {
   "display_name": "Python 3",
   "language": "python",
   "name": "python3"
  },
  "language_info": {
   "codemirror_mode": {
    "name": "ipython",
    "version": 3
   },
   "file_extension": ".py",
   "mimetype": "text/x-python",
   "name": "python",
   "nbconvert_exporter": "python",
   "pygments_lexer": "ipython3",
   "version": "3.8.8"
  },
  "toc": {
   "base_numbering": 1,
   "nav_menu": {},
   "number_sections": true,
   "sideBar": true,
   "skip_h1_title": false,
   "title_cell": "Table of Contents",
   "title_sidebar": "Contents",
   "toc_cell": false,
   "toc_position": {},
   "toc_section_display": true,
   "toc_window_display": false
  },
  "varInspector": {
   "cols": {
    "lenName": 16,
    "lenType": 16,
    "lenVar": 40
   },
   "kernels_config": {
    "python": {
     "delete_cmd_postfix": "",
     "delete_cmd_prefix": "del ",
     "library": "var_list.py",
     "varRefreshCmd": "print(var_dic_list())"
    },
    "r": {
     "delete_cmd_postfix": ") ",
     "delete_cmd_prefix": "rm(",
     "library": "var_list.r",
     "varRefreshCmd": "cat(var_dic_list()) "
    }
   },
   "position": {
    "height": "306.85px",
    "left": "918.3px",
    "right": "20px",
    "top": "120px",
    "width": "309.7px"
   },
   "types_to_exclude": [
    "module",
    "function",
    "builtin_function_or_method",
    "instance",
    "_Feature"
   ],
   "window_display": false
  }
 },
 "nbformat": 4,
 "nbformat_minor": 5
}
