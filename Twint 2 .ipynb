{
 "cells": [
  {
   "cell_type": "code",
   "execution_count": 1,
   "id": "0164f68b",
   "metadata": {},
   "outputs": [
    {
     "name": "stdout",
     "output_type": "stream",
     "text": [
      "Requirement already satisfied: twint in c:\\users\\winadmin\\anaconda3\\lib\\site-packages (2.1.20)\n",
      "Requirement already satisfied: aiohttp in c:\\users\\winadmin\\anaconda3\\lib\\site-packages (from twint) (3.7.4.post0)\n",
      "Requirement already satisfied: pandas in c:\\users\\winadmin\\anaconda3\\lib\\site-packages (from twint) (1.2.4)\n",
      "Requirement already satisfied: elasticsearch in c:\\users\\winadmin\\anaconda3\\lib\\site-packages (from twint) (7.14.0)\n",
      "Requirement already satisfied: googletransx in c:\\users\\winadmin\\anaconda3\\lib\\site-packages (from twint) (2.4.2)\n",
      "Requirement already satisfied: cchardet in c:\\users\\winadmin\\anaconda3\\lib\\site-packages (from twint) (2.1.7)\n",
      "Requirement already satisfied: pysocks in c:\\users\\winadmin\\anaconda3\\lib\\site-packages (from twint) (1.7.1)\n",
      "Requirement already satisfied: fake-useragent in c:\\users\\winadmin\\anaconda3\\lib\\site-packages (from twint) (0.1.11)\n",
      "Requirement already satisfied: beautifulsoup4 in c:\\users\\winadmin\\anaconda3\\lib\\site-packages (from twint) (4.9.3)\n",
      "Requirement already satisfied: schedule in c:\\users\\winadmin\\anaconda3\\lib\\site-packages (from twint) (1.1.0)\n",
      "Requirement already satisfied: geopy in c:\\users\\winadmin\\anaconda3\\lib\\site-packages (from twint) (2.2.0)\n",
      "Requirement already satisfied: aiohttp-socks in c:\\users\\winadmin\\anaconda3\\lib\\site-packages (from twint) (0.6.0)\n",
      "Requirement already satisfied: aiodns in c:\\users\\winadmin\\anaconda3\\lib\\site-packages (from twint) (3.0.0)\n",
      "Requirement already satisfied: pycares>=4.0.0 in c:\\users\\winadmin\\anaconda3\\lib\\site-packages (from aiodns->twint) (4.0.0)\n",
      "Requirement already satisfied: cffi>=1.5.0 in c:\\users\\winadmin\\anaconda3\\lib\\site-packages (from pycares>=4.0.0->aiodns->twint) (1.14.5)\n",
      "Requirement already satisfied: pycparser in c:\\users\\winadmin\\anaconda3\\lib\\site-packages (from cffi>=1.5.0->pycares>=4.0.0->aiodns->twint) (2.20)\n",
      "Requirement already satisfied: async-timeout<4.0,>=3.0 in c:\\users\\winadmin\\anaconda3\\lib\\site-packages (from aiohttp->twint) (3.0.1)\n",
      "Requirement already satisfied: yarl<2.0,>=1.0 in c:\\users\\winadmin\\anaconda3\\lib\\site-packages (from aiohttp->twint) (1.6.3)\n",
      "Requirement already satisfied: chardet<5.0,>=2.0 in c:\\users\\winadmin\\anaconda3\\lib\\site-packages (from aiohttp->twint) (4.0.0)\n",
      "Requirement already satisfied: multidict<7.0,>=4.5 in c:\\users\\winadmin\\anaconda3\\lib\\site-packages (from aiohttp->twint) (5.1.0)\n",
      "Requirement already satisfied: attrs>=17.3.0 in c:\\users\\winadmin\\anaconda3\\lib\\site-packages (from aiohttp->twint) (20.3.0)\n",
      "Requirement already satisfied: typing-extensions>=3.6.5 in c:\\users\\winadmin\\anaconda3\\lib\\site-packages (from aiohttp->twint) (3.7.4.3)\n",
      "Requirement already satisfied: idna>=2.0 in c:\\users\\winadmin\\anaconda3\\lib\\site-packages (from yarl<2.0,>=1.0->aiohttp->twint) (2.10)\n",
      "Requirement already satisfied: python-socks[asyncio]>=1.2.2 in c:\\users\\winadmin\\anaconda3\\lib\\site-packages (from aiohttp-socks->twint) (1.2.4)\n",
      "Requirement already satisfied: soupsieve>1.2 in c:\\users\\winadmin\\anaconda3\\lib\\site-packages (from beautifulsoup4->twint) (2.2.1)\n",
      "Requirement already satisfied: urllib3<2,>=1.21.1 in c:\\users\\winadmin\\anaconda3\\lib\\site-packages (from elasticsearch->twint) (1.26.4)\n",
      "Requirement already satisfied: certifi in c:\\users\\winadmin\\anaconda3\\lib\\site-packages (from elasticsearch->twint) (2020.12.5)\n",
      "Requirement already satisfied: geographiclib<2,>=1.49 in c:\\users\\winadmin\\anaconda3\\lib\\site-packages (from geopy->twint) (1.52)\n",
      "Requirement already satisfied: requests in c:\\users\\winadmin\\anaconda3\\lib\\site-packages (from googletransx->twint) (2.25.1)\n",
      "Requirement already satisfied: numpy>=1.16.5 in c:\\users\\winadmin\\anaconda3\\lib\\site-packages (from pandas->twint) (1.20.1)\n",
      "Requirement already satisfied: python-dateutil>=2.7.3 in c:\\users\\winadmin\\anaconda3\\lib\\site-packages (from pandas->twint) (2.8.1)\n",
      "Requirement already satisfied: pytz>=2017.3 in c:\\users\\winadmin\\anaconda3\\lib\\site-packages (from pandas->twint) (2021.1)\n",
      "Requirement already satisfied: six>=1.5 in c:\\users\\winadmin\\anaconda3\\lib\\site-packages (from python-dateutil>=2.7.3->pandas->twint) (1.15.0)\n",
      "Collecting twint\n",
      "  Cloning https://github.com/twintproject/twint.git (to revision origin/master) to c:\\users\\winadmin\\appdata\\local\\temp\\pip-install-qp77oud6\\twint_b787412689044c01b1b23f0f58a8b080\n",
      "Requirement already satisfied: aiohttp in c:\\users\\winadmin\\anaconda3\\lib\\site-packages (from twint) (3.7.4.post0)\n",
      "Requirement already satisfied: aiodns in c:\\users\\winadmin\\anaconda3\\lib\\site-packages (from twint) (3.0.0)\n",
      "Requirement already satisfied: beautifulsoup4 in c:\\users\\winadmin\\anaconda3\\lib\\site-packages (from twint) (4.9.3)\n",
      "Requirement already satisfied: cchardet in c:\\users\\winadmin\\anaconda3\\lib\\site-packages (from twint) (2.1.7)\n",
      "Collecting dataclasses\n",
      "  Downloading dataclasses-0.6-py3-none-any.whl (14 kB)\n",
      "Requirement already satisfied: elasticsearch in c:\\users\\winadmin\\anaconda3\\lib\\site-packages (from twint) (7.14.0)\n",
      "Requirement already satisfied: pysocks in c:\\users\\winadmin\\anaconda3\\lib\\site-packages (from twint) (1.7.1)\n",
      "Requirement already satisfied: pandas in c:\\users\\winadmin\\anaconda3\\lib\\site-packages (from twint) (1.2.4)\n",
      "Requirement already satisfied: aiohttp_socks in c:\\users\\winadmin\\anaconda3\\lib\\site-packages (from twint) (0.6.0)\n",
      "Requirement already satisfied: schedule in c:\\users\\winadmin\\anaconda3\\lib\\site-packages (from twint) (1.1.0)\n",
      "Requirement already satisfied: geopy in c:\\users\\winadmin\\anaconda3\\lib\\site-packages (from twint) (2.2.0)\n",
      "Requirement already satisfied: fake-useragent in c:\\users\\winadmin\\anaconda3\\lib\\site-packages (from twint) (0.1.11)\n",
      "Requirement already satisfied: googletransx in c:\\users\\winadmin\\anaconda3\\lib\\site-packages (from twint) (2.4.2)\n",
      "Requirement already satisfied: pycares>=4.0.0 in c:\\users\\winadmin\\anaconda3\\lib\\site-packages (from aiodns->twint) (4.0.0)\n",
      "Requirement already satisfied: cffi>=1.5.0 in c:\\users\\winadmin\\anaconda3\\lib\\site-packages (from pycares>=4.0.0->aiodns->twint) (1.14.5)\n",
      "Requirement already satisfied: pycparser in c:\\users\\winadmin\\anaconda3\\lib\\site-packages (from cffi>=1.5.0->pycares>=4.0.0->aiodns->twint) (2.20)\n",
      "Requirement already satisfied: chardet<5.0,>=2.0 in c:\\users\\winadmin\\anaconda3\\lib\\site-packages (from aiohttp->twint) (4.0.0)\n",
      "Requirement already satisfied: async-timeout<4.0,>=3.0 in c:\\users\\winadmin\\anaconda3\\lib\\site-packages (from aiohttp->twint) (3.0.1)\n",
      "Requirement already satisfied: multidict<7.0,>=4.5 in c:\\users\\winadmin\\anaconda3\\lib\\site-packages (from aiohttp->twint) (5.1.0)\n",
      "Requirement already satisfied: typing-extensions>=3.6.5 in c:\\users\\winadmin\\anaconda3\\lib\\site-packages (from aiohttp->twint) (3.7.4.3)\n",
      "Requirement already satisfied: yarl<2.0,>=1.0 in c:\\users\\winadmin\\anaconda3\\lib\\site-packages (from aiohttp->twint) (1.6.3)\n",
      "Requirement already satisfied: attrs>=17.3.0 in c:\\users\\winadmin\\anaconda3\\lib\\site-packages (from aiohttp->twint) (20.3.0)\n",
      "Requirement already satisfied: idna>=2.0 in c:\\users\\winadmin\\anaconda3\\lib\\site-packages (from yarl<2.0,>=1.0->aiohttp->twint) (2.10)\n",
      "Requirement already satisfied: python-socks[asyncio]>=1.2.2 in c:\\users\\winadmin\\anaconda3\\lib\\site-packages (from aiohttp_socks->twint) (1.2.4)\n",
      "Requirement already satisfied: soupsieve>1.2 in c:\\users\\winadmin\\anaconda3\\lib\\site-packages (from beautifulsoup4->twint) (2.2.1)\n",
      "Requirement already satisfied: certifi in c:\\users\\winadmin\\anaconda3\\lib\\site-packages (from elasticsearch->twint) (2020.12.5)\n",
      "Requirement already satisfied: urllib3<2,>=1.21.1 in c:\\users\\winadmin\\anaconda3\\lib\\site-packages (from elasticsearch->twint) (1.26.4)\n",
      "Requirement already satisfied: geographiclib<2,>=1.49 in c:\\users\\winadmin\\anaconda3\\lib\\site-packages (from geopy->twint) (1.52)\n",
      "Requirement already satisfied: requests in c:\\users\\winadmin\\anaconda3\\lib\\site-packages (from googletransx->twint) (2.25.1)\n",
      "Requirement already satisfied: pytz>=2017.3 in c:\\users\\winadmin\\anaconda3\\lib\\site-packages (from pandas->twint) (2021.1)\n",
      "Requirement already satisfied: python-dateutil>=2.7.3 in c:\\users\\winadmin\\anaconda3\\lib\\site-packages (from pandas->twint) (2.8.1)\n",
      "Requirement already satisfied: numpy>=1.16.5 in c:\\users\\winadmin\\anaconda3\\lib\\site-packages (from pandas->twint) (1.20.1)\n",
      "Requirement already satisfied: six>=1.5 in c:\\users\\winadmin\\anaconda3\\lib\\site-packages (from python-dateutil>=2.7.3->pandas->twint) (1.15.0)\n",
      "Building wheels for collected packages: twint\n",
      "  Building wheel for twint (setup.py): started\n",
      "  Building wheel for twint (setup.py): finished with status 'done'\n",
      "  Created wheel for twint: filename=twint-2.1.21-py3-none-any.whl size=39131 sha256=1335dc3b47bb162f8166c407b6dc444e1e5a715f9d02755805ffd95e015cd20b\n",
      "  Stored in directory: C:\\Users\\Winadmin\\AppData\\Local\\Temp\\pip-ephem-wheel-cache-dxkroco_\\wheels\\82\\67\\14\\5495652787d3c55288164de4234c0712a1f785a64f61f1ea70\n",
      "Successfully built twint\n",
      "Installing collected packages: dataclasses, twint\n",
      "Successfully installed dataclasses-0.6 twint-2.1.21\n"
     ]
    },
    {
     "name": "stderr",
     "output_type": "stream",
     "text": [
      "  Running command git clone -q https://github.com/twintproject/twint.git 'C:\\Users\\Winadmin\\AppData\\Local\\Temp\\pip-install-qp77oud6\\twint_b787412689044c01b1b23f0f58a8b080'\n",
      "  WARNING: Did not find branch or tag 'origin/master', assuming revision or ref.\n",
      "  Running command git checkout -q origin/master\n",
      "  WARNING: The script twint.exe is installed in 'C:\\Users\\Winadmin\\AppData\\Roaming\\Python\\Python38\\Scripts' which is not on PATH.\n",
      "  Consider adding this directory to PATH or, if you prefer to suppress this warning, use --no-warn-script-location.\n"
     ]
    }
   ],
   "source": [
    "!pip3 install twint\n",
    "!pip3 install --user --upgrade git+https://github.com/twintproject/twint.git@origin/master#egg=twint"
   ]
  },
  {
   "cell_type": "code",
   "execution_count": 2,
   "id": "8704efe2",
   "metadata": {},
   "outputs": [
    {
     "name": "stderr",
     "output_type": "stream",
     "text": [
      "CRITICAL:root:twint.get:User:'NoneType' object is not subscriptable\n",
      "CRITICAL:root:twint.run:Twint:Feed:noDataExpecting value: line 1 column 1 (char 0)\n",
      "sleeping for 1.0 secs\n",
      "CRITICAL:root:twint.run:Twint:Feed:noDataExpecting value: line 1 column 1 (char 0)\n",
      "sleeping for 8.0 secs\n",
      "CRITICAL:root:twint.run:Twint:Feed:noDataExpecting value: line 1 column 1 (char 0)\n",
      "sleeping for 27.0 secs\n",
      "CRITICAL:root:twint.run:Twint:Feed:noDataExpecting value: line 1 column 1 (char 0)\n",
      "sleeping for 64.0 secs\n",
      "CRITICAL:root:twint.run:Twint:Feed:noDataExpecting value: line 1 column 1 (char 0)\n",
      "sleeping for 125.0 secs\n",
      "CRITICAL:root:twint.run:Twint:Feed:noDataExpecting value: line 1 column 1 (char 0)\n",
      "sleeping for 216.0 secs\n",
      "CRITICAL:root:twint.run:Twint:Feed:noDataExpecting value: line 1 column 1 (char 0)\n",
      "sleeping for 343.0 secs\n",
      "CRITICAL:root:twint.run:Twint:Feed:noDataExpecting value: line 1 column 1 (char 0)\n",
      "sleeping for 512.0 secs\n",
      "CRITICAL:root:twint.run:Twint:Feed:noDataExpecting value: line 1 column 1 (char 0)\n",
      "sleeping for 729.0 secs\n",
      "CRITICAL:root:twint.run:Twint:Feed:noDataExpecting value: line 1 column 1 (char 0)\n",
      "CRITICAL:root:twint.run:Twint:Feed:Tweets_known_error:Expecting value: line 1 column 1 (char 0)\n",
      "Expecting value: line 1 column 1 (char 0) [x] run.Feed[!] if get this error but you know for sure that more tweets exist, please open an issue and we will investigate it!"
     ]
    }
   ],
   "source": [
    "import twint\n",
    "import nest_asyncio\n",
    "\n",
    "nest_asyncio.apply()\n",
    "# Configure\n",
    "c = twint.Config()\n",
    "c.Username = \"malang_khosty\"\n",
    "c.Store_csv = True\n",
    "c.Images = True\n",
    "\n",
    "# Run\n",
    "twint.run.Search(c)"
   ]
  },
  {
   "cell_type": "code",
   "execution_count": null,
   "id": "1b282750",
   "metadata": {},
   "outputs": [],
   "source": []
  }
 ],
 "metadata": {
  "kernelspec": {
   "display_name": "Python 3",
   "language": "python",
   "name": "python3"
  },
  "language_info": {
   "codemirror_mode": {
    "name": "ipython",
    "version": 3
   },
   "file_extension": ".py",
   "mimetype": "text/x-python",
   "name": "python",
   "nbconvert_exporter": "python",
   "pygments_lexer": "ipython3",
   "version": "3.8.8"
  }
 },
 "nbformat": 4,
 "nbformat_minor": 5
}
