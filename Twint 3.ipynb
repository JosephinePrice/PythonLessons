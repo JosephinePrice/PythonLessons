{
 "cells": [
  {
   "cell_type": "code",
   "execution_count": 4,
   "id": "91ffe087",
   "metadata": {},
   "outputs": [
    {
     "name": "stdout",
     "output_type": "stream",
     "text": [
      "Requirement already satisfied: twint in c:\\users\\winadmin\\anaconda3\\lib\\site-packages (2.1.20)\n",
      "Requirement already satisfied: fake-useragent in c:\\users\\winadmin\\anaconda3\\lib\\site-packages (from twint) (0.1.11)\n",
      "Requirement already satisfied: cchardet in c:\\users\\winadmin\\anaconda3\\lib\\site-packages (from twint) (2.1.7)\n",
      "Requirement already satisfied: geopy in c:\\users\\winadmin\\anaconda3\\lib\\site-packages (from twint) (2.2.0)\n",
      "Requirement already satisfied: aiohttp in c:\\users\\winadmin\\anaconda3\\lib\\site-packages (from twint) (3.7.4.post0)\n",
      "Requirement already satisfied: pandas in c:\\users\\winadmin\\anaconda3\\lib\\site-packages (from twint) (1.2.4)\n",
      "Requirement already satisfied: aiohttp-socks in c:\\users\\winadmin\\anaconda3\\lib\\site-packages (from twint) (0.6.0)\n",
      "Requirement already satisfied: beautifulsoup4 in c:\\users\\winadmin\\anaconda3\\lib\\site-packages (from twint) (4.9.3)\n",
      "Requirement already satisfied: elasticsearch in c:\\users\\winadmin\\anaconda3\\lib\\site-packages (from twint) (7.14.0)\n",
      "Requirement already satisfied: schedule in c:\\users\\winadmin\\anaconda3\\lib\\site-packages (from twint) (1.1.0)\n",
      "Requirement already satisfied: googletransx in c:\\users\\winadmin\\anaconda3\\lib\\site-packages (from twint) (2.4.2)\n",
      "Requirement already satisfied: aiodns in c:\\users\\winadmin\\anaconda3\\lib\\site-packages (from twint) (3.0.0)\n",
      "Requirement already satisfied: pysocks in c:\\users\\winadmin\\anaconda3\\lib\\site-packages (from twint) (1.7.1)\n",
      "Requirement already satisfied: pycares>=4.0.0 in c:\\users\\winadmin\\anaconda3\\lib\\site-packages (from aiodns->twint) (4.0.0)\n",
      "Requirement already satisfied: cffi>=1.5.0 in c:\\users\\winadmin\\anaconda3\\lib\\site-packages (from pycares>=4.0.0->aiodns->twint) (1.14.5)\n",
      "Requirement already satisfied: pycparser in c:\\users\\winadmin\\anaconda3\\lib\\site-packages (from cffi>=1.5.0->pycares>=4.0.0->aiodns->twint) (2.20)\n",
      "Requirement already satisfied: attrs>=17.3.0 in c:\\users\\winadmin\\anaconda3\\lib\\site-packages (from aiohttp->twint) (20.3.0)\n",
      "Requirement already satisfied: yarl<2.0,>=1.0 in c:\\users\\winadmin\\anaconda3\\lib\\site-packages (from aiohttp->twint) (1.6.3)\n",
      "Requirement already satisfied: multidict<7.0,>=4.5 in c:\\users\\winadmin\\anaconda3\\lib\\site-packages (from aiohttp->twint) (5.1.0)\n",
      "Requirement already satisfied: typing-extensions>=3.6.5 in c:\\users\\winadmin\\anaconda3\\lib\\site-packages (from aiohttp->twint) (3.7.4.3)\n",
      "Requirement already satisfied: chardet<5.0,>=2.0 in c:\\users\\winadmin\\anaconda3\\lib\\site-packages (from aiohttp->twint) (4.0.0)\n",
      "Requirement already satisfied: async-timeout<4.0,>=3.0 in c:\\users\\winadmin\\anaconda3\\lib\\site-packages (from aiohttp->twint) (3.0.1)\n",
      "Requirement already satisfied: idna>=2.0 in c:\\users\\winadmin\\anaconda3\\lib\\site-packages (from yarl<2.0,>=1.0->aiohttp->twint) (2.10)\n",
      "Requirement already satisfied: python-socks[asyncio]>=1.2.2 in c:\\users\\winadmin\\anaconda3\\lib\\site-packages (from aiohttp-socks->twint) (1.2.4)\n",
      "Requirement already satisfied: soupsieve>1.2 in c:\\users\\winadmin\\anaconda3\\lib\\site-packages (from beautifulsoup4->twint) (2.2.1)\n",
      "Requirement already satisfied: urllib3<2,>=1.21.1 in c:\\users\\winadmin\\anaconda3\\lib\\site-packages (from elasticsearch->twint) (1.26.4)\n",
      "Requirement already satisfied: certifi in c:\\users\\winadmin\\anaconda3\\lib\\site-packages (from elasticsearch->twint) (2020.12.5)\n",
      "Requirement already satisfied: geographiclib<2,>=1.49 in c:\\users\\winadmin\\anaconda3\\lib\\site-packages (from geopy->twint) (1.52)\n",
      "Requirement already satisfied: requests in c:\\users\\winadmin\\anaconda3\\lib\\site-packages (from googletransx->twint) (2.25.1)\n",
      "Requirement already satisfied: pytz>=2017.3 in c:\\users\\winadmin\\anaconda3\\lib\\site-packages (from pandas->twint) (2021.1)\n",
      "Requirement already satisfied: python-dateutil>=2.7.3 in c:\\users\\winadmin\\anaconda3\\lib\\site-packages (from pandas->twint) (2.8.1)\n",
      "Requirement already satisfied: numpy>=1.16.5 in c:\\users\\winadmin\\anaconda3\\lib\\site-packages (from pandas->twint) (1.20.1)\n",
      "Requirement already satisfied: six>=1.5 in c:\\users\\winadmin\\anaconda3\\lib\\site-packages (from python-dateutil>=2.7.3->pandas->twint) (1.15.0)\n",
      "Collecting twint\n",
      "  Cloning https://github.com/twintproject/twint.git (to revision origin/master) to c:\\users\\winadmin\\appdata\\local\\temp\\pip-install-q7utcjkl\\twint_01dccec6c1ed4d789f5ad72d25f40984\n"
     ]
    },
    {
     "name": "stderr",
     "output_type": "stream",
     "text": [
      "  Running command git clone -q https://github.com/twintproject/twint.git 'C:\\Users\\Winadmin\\AppData\\Local\\Temp\\pip-install-q7utcjkl\\twint_01dccec6c1ed4d789f5ad72d25f40984'\n",
      "  ERROR: Error [WinError 2] The system cannot find the file specified while executing command git clone -q https://github.com/twintproject/twint.git 'C:\\Users\\Winadmin\\AppData\\Local\\Temp\\pip-install-q7utcjkl\\twint_01dccec6c1ed4d789f5ad72d25f40984'\n",
      "ERROR: Cannot find command 'git' - do you have 'git' installed and in your PATH?\n"
     ]
    }
   ],
   "source": [
    "!pip3 install twint\n",
    "!pip3 install --user --upgrade git+https://github.com/twintproject/twint.git@origin/master#egg=twint"
   ]
  },
  {
   "cell_type": "code",
   "execution_count": 5,
   "id": "fc0d59f7",
   "metadata": {},
   "outputs": [
    {
     "name": "stdout",
     "output_type": "stream",
     "text": [
      "Requirement already satisfied: nest-asyncio in c:\\users\\winadmin\\anaconda3\\lib\\site-packages (1.5.1)\n"
     ]
    }
   ],
   "source": [
    "!pip install nest-asyncio"
   ]
  },
  {
   "cell_type": "code",
   "execution_count": 6,
   "id": "bd0ee12e",
   "metadata": {},
   "outputs": [],
   "source": [
    "import twint \n",
    "import nest_asyncio"
   ]
  },
  {
   "cell_type": "code",
   "execution_count": 9,
   "id": "c6e77c13",
   "metadata": {},
   "outputs": [],
   "source": [
    "nest_asyncio.apply()\n",
    "c = twint.Config()\n",
    "c.Search = '#women'\n",
    "c.limit = 1 \n",
    "c.Hide_output = True\n",
    "c.Pandas = True"
   ]
  },
  {
   "cell_type": "code",
   "execution_count": null,
   "id": "b330fe7f",
   "metadata": {},
   "outputs": [],
   "source": []
  }
 ],
 "metadata": {
  "kernelspec": {
   "display_name": "Python 3",
   "language": "python",
   "name": "python3"
  },
  "language_info": {
   "codemirror_mode": {
    "name": "ipython",
    "version": 3
   },
   "file_extension": ".py",
   "mimetype": "text/x-python",
   "name": "python",
   "nbconvert_exporter": "python",
   "pygments_lexer": "ipython3",
   "version": "3.8.8"
  }
 },
 "nbformat": 4,
 "nbformat_minor": 5
}
